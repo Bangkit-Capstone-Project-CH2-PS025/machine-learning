{
  "nbformat": 4,
  "nbformat_minor": 0,
  "metadata": {
    "colab": {
      "provenance": []
    },
    "kernelspec": {
      "name": "python3",
      "display_name": "Python 3"
    },
    "language_info": {
      "name": "python"
    }
  },
  "cells": [
    {
      "cell_type": "code",
      "source": [
        "!pip install thompson_sampling"
      ],
      "metadata": {
        "id": "Rud9B_8IRiwR",
        "colab": {
          "base_uri": "https://localhost:8080/",
          "height": 602
        },
        "outputId": "fe437c95-2280-4450-8b9c-3e9c6d488b62"
      },
      "execution_count": 1,
      "outputs": [
        {
          "output_type": "stream",
          "name": "stdout",
          "text": [
            "Collecting thompson_sampling\n",
            "  Downloading thompson_sampling-0.0.4-py3-none-any.whl (8.0 kB)\n",
            "Collecting typing (from thompson_sampling)\n",
            "  Downloading typing-3.7.4.3.tar.gz (78 kB)\n",
            "\u001b[2K     \u001b[90m━━━━━━━━━━━━━━━━━━━━━━━━━━━━━━━━━━━━━━━━\u001b[0m \u001b[32m78.6/78.6 kB\u001b[0m \u001b[31m1.2 MB/s\u001b[0m eta \u001b[36m0:00:00\u001b[0m\n",
            "\u001b[?25h  Preparing metadata (setup.py) ... \u001b[?25l\u001b[?25hdone\n",
            "Requirement already satisfied: numpy in /usr/local/lib/python3.10/dist-packages (from thompson_sampling) (1.23.5)\n",
            "Requirement already satisfied: seaborn in /usr/local/lib/python3.10/dist-packages (from thompson_sampling) (0.12.2)\n",
            "Requirement already satisfied: matplotlib in /usr/local/lib/python3.10/dist-packages (from thompson_sampling) (3.7.1)\n",
            "Requirement already satisfied: pandas in /usr/local/lib/python3.10/dist-packages (from thompson_sampling) (1.5.3)\n",
            "Requirement already satisfied: contourpy>=1.0.1 in /usr/local/lib/python3.10/dist-packages (from matplotlib->thompson_sampling) (1.2.0)\n",
            "Requirement already satisfied: cycler>=0.10 in /usr/local/lib/python3.10/dist-packages (from matplotlib->thompson_sampling) (0.12.1)\n",
            "Requirement already satisfied: fonttools>=4.22.0 in /usr/local/lib/python3.10/dist-packages (from matplotlib->thompson_sampling) (4.46.0)\n",
            "Requirement already satisfied: kiwisolver>=1.0.1 in /usr/local/lib/python3.10/dist-packages (from matplotlib->thompson_sampling) (1.4.5)\n",
            "Requirement already satisfied: packaging>=20.0 in /usr/local/lib/python3.10/dist-packages (from matplotlib->thompson_sampling) (23.2)\n",
            "Requirement already satisfied: pillow>=6.2.0 in /usr/local/lib/python3.10/dist-packages (from matplotlib->thompson_sampling) (9.4.0)\n",
            "Requirement already satisfied: pyparsing>=2.3.1 in /usr/local/lib/python3.10/dist-packages (from matplotlib->thompson_sampling) (3.1.1)\n",
            "Requirement already satisfied: python-dateutil>=2.7 in /usr/local/lib/python3.10/dist-packages (from matplotlib->thompson_sampling) (2.8.2)\n",
            "Requirement already satisfied: pytz>=2020.1 in /usr/local/lib/python3.10/dist-packages (from pandas->thompson_sampling) (2023.3.post1)\n",
            "Requirement already satisfied: six>=1.5 in /usr/local/lib/python3.10/dist-packages (from python-dateutil>=2.7->matplotlib->thompson_sampling) (1.16.0)\n",
            "Building wheels for collected packages: typing\n",
            "  Building wheel for typing (setup.py) ... \u001b[?25l\u001b[?25hdone\n",
            "  Created wheel for typing: filename=typing-3.7.4.3-py3-none-any.whl size=26304 sha256=ebff65ebb480c0c825b8edd38c8f6a867bca12bfbbc8a836be93998d0b864497\n",
            "  Stored in directory: /root/.cache/pip/wheels/7c/d0/9e/1f26ebb66d9e1732e4098bc5a6c2d91f6c9a529838f0284890\n",
            "Successfully built typing\n",
            "Installing collected packages: typing, thompson_sampling\n",
            "Successfully installed thompson_sampling-0.0.4 typing-3.7.4.3\n"
          ]
        },
        {
          "output_type": "display_data",
          "data": {
            "application/vnd.colab-display-data+json": {
              "pip_warning": {
                "packages": [
                  "typing"
                ]
              }
            }
          },
          "metadata": {}
        }
      ]
    },
    {
      "cell_type": "markdown",
      "source": [
        "# Packages"
      ],
      "metadata": {
        "id": "hux2nKhysc6Q"
      }
    },
    {
      "cell_type": "code",
      "source": [
        "from thompson_sampling.bernoulli import BernoulliExperiment\n",
        "from thompson_sampling.priors import BetaPrior"
      ],
      "metadata": {
        "id": "oHR5HNklRacz"
      },
      "execution_count": 2,
      "outputs": []
    },
    {
      "cell_type": "markdown",
      "source": [
        "# Model"
      ],
      "metadata": {
        "id": "c2XBKoJKOpXS"
      }
    },
    {
      "cell_type": "markdown",
      "source": [
        "## Thompson Sampling"
      ],
      "metadata": {
        "id": "caueOlrbRs6a"
      }
    },
    {
      "cell_type": "code",
      "source": [
        "class ThompsonSampling:\n",
        "    def __init__(self, arms=2):\n",
        "        self.experiment = BernoulliExperiment(arms=arms)\n",
        "        self.priors = BetaPrior()\n",
        "\n",
        "    def add_keywords(self, keywords, expected_keywords):\n",
        "        for keyword in keywords:\n",
        "            self.priors.add_one(mean=0.5, variance=0.2, effective_size=5, label=keyword)\n",
        "        for keyword in expected_keywords:\n",
        "            self.priors.add_one(mean=0.8, variance=0.05, effective_size=10, label=keyword)\n",
        "        self.experiment = BernoulliExperiment(priors=self.priors)\n",
        "\n",
        "    def add_rewards(self, keywords, expected_keywords):\n",
        "        rewards = []\n",
        "        for keyword in keywords:\n",
        "            rewards.append({\"label\": keyword, \"reward\": 0})\n",
        "        for keyword in expected_keywords:\n",
        "            rewards.append({\"label\": keyword, \"reward\": 1})\n",
        "        self.experiment.add_rewards(rewards)\n",
        "\n",
        "    def choose_unique_arms(self):\n",
        "        chosen_arms = set()\n",
        "        unique_chosen_arms = []\n",
        "        while len(chosen_arms) < 8:\n",
        "            chosen_arm = self.experiment.choose_arm()\n",
        "            if chosen_arm not in chosen_arms:\n",
        "                chosen_arms.add(chosen_arm)\n",
        "                unique_chosen_arms.append(chosen_arm)\n",
        "        return unique_chosen_arms"
      ],
      "metadata": {
        "id": "Yg1laAfzmXbs"
      },
      "execution_count": 3,
      "outputs": []
    },
    {
      "cell_type": "markdown",
      "source": [
        "# Generate"
      ],
      "metadata": {
        "id": "cGddtqY7yZal"
      }
    },
    {
      "cell_type": "code",
      "source": [
        "class City():\n",
        "    def init(self):\n",
        "        self.keywords = []\n",
        "        self.expected_keywords = []\n",
        "\n",
        "    def select_city(self, city):\n",
        "        if city == \"bandung\":\n",
        "            return self.bandung()\n",
        "        elif city == \"banjarbaru\":\n",
        "            return self.banjarbaru()\n",
        "        elif city == \"bengkulu\":\n",
        "            return self.bengkulu()\n",
        "        elif city == \"denpasar\":\n",
        "            return self.denpasar()\n",
        "        elif city == \"jakarta\":\n",
        "            return self.jakarta()\n",
        "        elif city == \"jayapura\":\n",
        "            return self.jayapura()\n",
        "        elif city == \"maluku\":\n",
        "            return self.maluku()\n",
        "        elif city == \"semarang\":\n",
        "            return self.semarang()\n",
        "        elif city == \"surabaya\":\n",
        "            return self.surabaya()\n",
        "        elif city == \"yogyakarta\":\n",
        "            return self.yogyakarta()\n",
        "\n",
        "    def bandung(self):\n",
        "        self.keywords = ['taman', 'kota', 'alam', 'wisata', 'air', 'curug', 'museum', 'gunung', 'kawasan', 'rekreasi', 'batu', 'gedung', 'indah', 'jalan', 'hutan', 'tinggi', 'budaya', 'kolam', 'luas', 'seni']\n",
        "        self.expected_keywords = ['museum', 'kota', 'gunung', 'taman', 'wisata']\n",
        "        return self.keywords, self.expected_keywords\n",
        "\n",
        "    def banjarbaru(self):\n",
        "        self.keywords = ['wisata', 'rekreasi', 'taman', 'alam', 'air', 'danau', 'hutan', 'bukit', 'gunung', 'pinus', 'terjun', 'kebun', 'wisatawan', 'kalimantan', 'main', 'hijau', 'suasana', 'raya', 'pulau', 'kota']\n",
        "        self.expected_keywords = ['taman', 'rekreasi', 'gunung', 'bukit', 'wisata']\n",
        "        return self.keywords, self.expected_keywords\n",
        "\n",
        "    def bengkulu(self):\n",
        "        self.keywords = ['keywords', 'pantai', 'wisata', 'kota', 'alam', 'taman', 'indah', 'danau', 'pulau', 'air', 'pasar', 'jalan', 'wisatawan', 'wahana', 'pusat', 'luas', 'masyarakat', 'rekreasi', 'sejarah', 'laut', 'desa']\n",
        "        self.expected_keywords = ['pantai', 'danau', 'wisata', 'alam', 'kota']\n",
        "        return self.keywords, self.expected_keywords\n",
        "\n",
        "    def denpasar(self):\n",
        "        self.keywords = ['pantai', 'wisata', 'alam', 'kota', 'indah', 'wisatawan', 'pura', 'pulau', 'desa', 'pasir', 'selatan', 'taman', 'laut', 'budaya', 'warga', 'ombak', 'rekreasi', 'air', 'batu', 'selancar']\n",
        "        self.expected_keywords = ['pantai', 'wisata', 'pura', 'kota', 'indah']\n",
        "        return self.keywords, self.expected_keywords\n",
        "\n",
        "    def jakarta(self):\n",
        "        self.keywords = ['museum', 'taman', 'pulau', 'pusat', 'wisata', 'pantai', 'budaya', 'seni', 'sejarah', 'kawasan', 'pasar', 'kota', 'rekreasi', 'nasional', 'rumah', 'jalan', 'alam', 'masjid', 'luas', 'monumen']\n",
        "        self.expected_keywords = ['museum', 'taman', 'pulau', 'pusat', 'budaya']\n",
        "        return self.keywords, self.expected_keywords\n",
        "\n",
        "    def jayapura(self):\n",
        "        self.keywords = ['pantai', 'bukit', 'alam', 'kota', 'air', 'pasir', 'wisata', 'kampung', 'indah', 'pandang', 'telaga', 'teluk', 'distrik', 'laut', 'gunung', 'tanjung', 'destinasi', 'adat', 'danau', 'main']\n",
        "        self.expected_keywords = ['pantai', 'bukit', 'air', 'kota', 'alam']\n",
        "        return self.keywords, self.expected_keywords\n",
        "\n",
        "    def maluku(self):\n",
        "        self.keywords = ['pantai', 'pulau', 'alam', 'benteng', 'air', 'wisata', 'terjun', 'kota', 'indah', 'desa', 'laut', 'terjun', 'danau', 'sejarah', 'gunung', 'budaya', 'pasir', 'teluk', 'destinasi', 'tebing']\n",
        "        self.expected_keywords = ['pantai', 'pulau', 'air', 'alam', 'benteng']\n",
        "        return self.keywords, self.expected_keywords\n",
        "\n",
        "    def semarang(self):\n",
        "        self.keywords = ['wisata', 'taman', 'kota', 'pantai', 'alam', 'hutan', 'kampung', 'gunung', 'kawasan', 'rekreasi', 'air', 'sejarah', 'desa', 'jalan', 'masjid', 'batik', 'museum', 'pandang', 'rawa', 'budaya']\n",
        "        self.expected_keywords = ['taman', 'wisata', 'kota', 'kampung', 'museum']\n",
        "        return self.keywords, self.expected_keywords\n",
        "\n",
        "    def surabaya(self):\n",
        "        self.keywords = ['taman', 'kota', 'museum', 'wisata', 'patung', 'jalan', 'rekreasi', 'air', 'sejarah', 'monumen', 'masjid', 'laut', 'jembatan', 'waterpark', 'pantai', 'budaya', 'kebun', 'kapal', 'fasilitas', 'keluarga']\n",
        "        self.expected_keywords = ['taman', 'museum', 'kota', 'masjid', 'monumen']\n",
        "        return self.keywords, self.expected_keywords\n",
        "\n",
        "    def yogyakarta(self):\n",
        "        self.keywords = ['taman', 'kota', 'museum', 'wisata', 'patung', 'jalan', 'rekreasi', 'air', 'sejarah', 'monumen', 'masjid', 'laut', 'jembatan', 'waterpark', 'pantai', 'budaya', 'kebun', 'kapal', 'fasilitas', 'keluarga']\n",
        "        self.expected_keywords = ['pantai', 'wisata', 'bukit', 'candi', 'gunung']\n",
        "        return self.keywords, self.expected_keywords"
      ],
      "metadata": {
        "id": "_B9-vD6cpcaP"
      },
      "execution_count": 4,
      "outputs": []
    },
    {
      "cell_type": "markdown",
      "source": [
        "# Pipeline"
      ],
      "metadata": {
        "id": "VfKR6m1ay0mr"
      }
    },
    {
      "cell_type": "code",
      "source": [
        "def make_pipeline(city_name):\n",
        "    city = City()\n",
        "    keywords, expected_keywords = city.select_city(city_name)\n",
        "    arm = ThompsonSampling()\n",
        "    arm.add_keywords(keywords, expected_keywords)\n",
        "    arm.add_rewards(keywords, expected_keywords)\n",
        "    return arm.choose_unique_arms()\n",
        "\n",
        "make_pipeline(\"bandung\")"
      ],
      "metadata": {
        "colab": {
          "base_uri": "https://localhost:8080/"
        },
        "id": "YkAmmG8-yXdT",
        "outputId": "656e0905-adbe-43c8-ee4c-64f3bcaa2a95"
      },
      "execution_count": 5,
      "outputs": [
        {
          "output_type": "execute_result",
          "data": {
            "text/plain": [
              "['gunung', 'gedung', 'taman', 'museum', 'kota', 'wisata', 'luas', 'kolam']"
            ]
          },
          "metadata": {},
          "execution_count": 5
        }
      ]
    }
  ]
}