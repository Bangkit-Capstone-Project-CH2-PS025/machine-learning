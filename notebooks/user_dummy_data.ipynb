{
  "nbformat": 4,
  "nbformat_minor": 0,
  "metadata": {
    "colab": {
      "provenance": []
    },
    "kernelspec": {
      "name": "python3",
      "display_name": "Python 3"
    },
    "language_info": {
      "name": "python"
    }
  },
  "cells": [
    {
      "cell_type": "code",
      "source": [
        "import random\n",
        "import pandas as pd\n",
        "import zipfile\n",
        "import os\n",
        "\n",
        "preferences = pd.read_csv(\"/content/all_preferences.csv\")\n",
        "max_budget = pd.read_csv(\"/content/all_max_budget.csv\")\n",
        "\n",
        "cities = ['bandung', 'banjarbaru', 'bengkulu', 'denpasar', 'jakarta', 'jayapura', 'maluku', 'semarang', 'surabaya', 'yogyakarta']\n",
        "\n",
        "for city in cities:\n",
        "    locals()[city] = preferences[city].tolist()\n",
        "    locals()[\"max_price_\" + city] = max_budget[city].tolist()\n",
        "\n",
        "city_var = [bandung, banjarbaru, bengkulu, denpasar, jakarta, jayapura, maluku, semarang, surabaya, yogyakarta]\n",
        "max_budget_city = [max_price_bandung, max_price_banjarbaru, max_price_bengkulu, max_price_denpasar, max_price_jakarta, max_price_jayapura, max_price_maluku, max_price_semarang, max_price_surabaya, max_price_yogyakarta]"
      ],
      "metadata": {
        "id": "OEnQvNdBSsie"
      },
      "execution_count": 13,
      "outputs": []
    },
    {
      "cell_type": "code",
      "source": [
        "def generate_dummy_user(preferences, budget_max=None, budget_min=0, min_pref=1, max_pref=2):\n",
        "    num_preferences = random.randint(min_pref, max_pref)\n",
        "    user_preferences = random.sample(preferences, num_preferences)\n",
        "    user_budget = round(random.uniform(budget_min, budget_max) / 500) * 500\n",
        "\n",
        "    pref_1 = user_preferences[0]\n",
        "\n",
        "    if len(user_preferences) > 1:\n",
        "        pref_2 = user_preferences[1]\n",
        "    else:\n",
        "        pref_2 = None\n",
        "\n",
        "    return {\n",
        "        \"preferences_1\": pref_1,\n",
        "        \"preferences_2\": pref_2,\n",
        "        \"budget\": user_budget\n",
        "    }\n",
        "\n",
        "num_users = 1000\n",
        "city_dfs = {}\n",
        "for i in range(len(city_var)):\n",
        "    dummy_users = [generate_dummy_user(city_var[i], max_budget_city[i][0]) for _ in range(num_users)]\n",
        "    city_name = cities[i]\n",
        "    city_dfs[city_name] = pd.DataFrame(dummy_users)\n",
        "\n",
        "for city, df in city_dfs.items():\n",
        "    file_name = city + \"_user_dummy.csv\"\n",
        "    df.to_csv(file_name, index=False)\n",
        "\n",
        "zip_file_name = \"users_dummy_data.zip\"\n",
        "\n",
        "with zipfile.ZipFile(zip_file_name, 'w') as zipf:\n",
        "    for city, df in city_dfs.items():\n",
        "        file_name = city + \"_user_dummy.csv\"\n",
        "        zipf.write(file_name)"
      ],
      "metadata": {
        "id": "takn193Ua9vD"
      },
      "execution_count": 17,
      "outputs": []
    }
  ]
}